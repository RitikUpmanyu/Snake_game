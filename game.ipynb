{
 "cells": [
  {
   "cell_type": "code",
   "execution_count": 8,
   "metadata": {},
   "outputs": [],
   "source": [
    "import pygame\n",
    "import random\n",
    "\n",
    "pygame.init()\n",
    "\n",
    "win = pygame.display.set_mode((500,500))\n",
    "pygame.display.set_caption(\"CoinCollector\")\n",
    "pygame.mixer.music.load('mario.mp3')\n",
    "\n",
    "\n",
    "\n",
    "\n",
    "\n",
    "class Coin:\n",
    "    def __init__(self):\n",
    "        self.x = random.randint(0, 500)\n",
    "        self.y = random.randint(0, 500)\n",
    "        self.collected = False\n",
    "\n",
    "    def draw(self):\n",
    "        pygame.draw.circle(win, (255, 255, 0),(self.x, self.y), 5)\n",
    "        \n",
    "        \n",
    "class Square:\n",
    "    def __init__(self, playerx, playery):\n",
    "        self.x=playerx+21\n",
    "        self.y=playery+21\n",
    "        \n",
    "        \n",
    "\n",
    "class Player:\n",
    "    def __init__(self):\n",
    "        self.x = 250\n",
    "        self.y = 250\n",
    "        self.velocity = 0.9\n",
    "        self.numcollected = 0   \n",
    "\n",
    "\n",
    "    def draw(self, height, width, s_list):\n",
    "        for x in s_list:\n",
    "            pygame.draw.rect(win, (255,0,0), [x[0], x[1], height, width])\n",
    "\n",
    "class ScoreBar:\n",
    "    def __init__(self, x, width):\n",
    "        self.x = x\n",
    "        self.width = width\n",
    "        self.text = \"\"\n",
    "\n",
    "    def updatescore(self, score):\n",
    "        font = pygame.font.SysFont('Arial', 10)\n",
    "        self.text = str(score)\n",
    "        pygame.draw.rect(win,(255,0,0) , (self.x, 5, self.width, 12))\n",
    "        text = font.render(self.text, 1, (255,255,255))\n",
    "        win.blit(text, (self.x + (self.width / 2 - text.get_width() / 2), 5 + (12 / 2 - text.get_height() / 2)))\n",
    "    \n",
    "\n",
    "p = Player()\n",
    "Length_of_snake=1\n",
    "coins = []\n",
    "\n",
    "score = ScoreBar(5, 15)\n",
    "\n",
    "for i in range (5):\n",
    "    c = Coin()\n",
    "    coins.append(c)\n",
    "\n",
    "def refresh():\n",
    "    win.fill((0, 0, 0))\n",
    "    p.draw(height,width,snake_List)\n",
    "    for coin in coins:\n",
    "        if coin.collected == False:\n",
    "            coin.draw()\n",
    "\n",
    "    score.updatescore(p.numcollected)\n",
    "    pygame.display.update()\n",
    "\n",
    "height=20\n",
    "width =20\n",
    "run = True\n",
    "snake_List = []\n",
    "\n",
    "while (run):\n",
    "    refresh()\n",
    "    pygame.event.get()\n",
    "    for event in pygame.event.get():\n",
    "        if event.type == pygame.QUIT:\n",
    "            run = False\n",
    "            pygame.quit()\n",
    "            break\n",
    "    x1 = 500 / 2\n",
    "    y1 = 500 / 2\n",
    " \n",
    "    x1_change = 0\n",
    "    y1_change = 0\n",
    "    pressed = pygame.key.get_pressed()\n",
    "    if pressed[pygame.K_UP]:\n",
    "        y1_change = -height\n",
    "        x1_change = 0\n",
    "    if pressed[pygame.K_DOWN]:\n",
    "        y1_change = height\n",
    "        x1_change = 0\n",
    "    if pressed[pygame.K_LEFT]:\n",
    "        x1_change = -width\n",
    "        y1_change = 0\n",
    "    if pressed[pygame.K_RIGHT]:\n",
    "        x1_change = width\n",
    "        y1_change = 0\n",
    "    if pressed[pygame.K_ESCAPE]:\n",
    "        run = False\n",
    "        pygame.quit()\n",
    "        break\n",
    "    x1 += x1_change\n",
    "    y1 += y1_change\n",
    "    snake_Head = []\n",
    "    snake_Head.append(x1)\n",
    "    snake_Head.append(y1)\n",
    "    snake_List.append(snake_Head)\n",
    "    if len(snake_List) > Length_of_snake:\n",
    "            del snake_List[0]\n",
    "    \n",
    "    for coin in coins:\n",
    "        if coin.x >= p.x and coin.x <= (p.x+height) and coin.y >= p.y and coin.y <= p.y + width:\n",
    "            p.numcollected += 1\n",
    "            coin.collected = True\n",
    "            coins.remove(coin)\n",
    "            c=Coin()\n",
    "            coins.append(c)\n",
    "            pygame.mixer.music.play(1)\n",
    "            Length_of_snake += 1\n",
    "    if  p.x >=500+width:\n",
    "        p.x -= 500+width\n",
    "    if  p.y >=500+height:\n",
    "        p.y -= 500+width\n",
    "    if  p.x <=0:\n",
    "        p.x += 500\n",
    "    if  p.y <=0:\n",
    "        p.y += 500\n",
    "                 \n",
    "    if height>=500:\n",
    "        height = 20\n",
    "        width = 20\n",
    "        p.velocity=1.5\n",
    "      \n",
    "    \n",
    "        "
   ]
  },
  {
   "cell_type": "code",
   "execution_count": null,
   "metadata": {},
   "outputs": [],
   "source": []
  },
  {
   "cell_type": "code",
   "execution_count": null,
   "metadata": {},
   "outputs": [],
   "source": []
  },
  {
   "cell_type": "code",
   "execution_count": null,
   "metadata": {},
   "outputs": [],
   "source": []
  },
  {
   "cell_type": "code",
   "execution_count": null,
   "metadata": {},
   "outputs": [],
   "source": []
  },
  {
   "cell_type": "code",
   "execution_count": null,
   "metadata": {},
   "outputs": [],
   "source": []
  },
  {
   "cell_type": "code",
   "execution_count": null,
   "metadata": {},
   "outputs": [],
   "source": []
  },
  {
   "cell_type": "code",
   "execution_count": null,
   "metadata": {},
   "outputs": [],
   "source": []
  },
  {
   "cell_type": "code",
   "execution_count": null,
   "metadata": {},
   "outputs": [],
   "source": []
  },
  {
   "cell_type": "code",
   "execution_count": null,
   "metadata": {},
   "outputs": [],
   "source": []
  },
  {
   "cell_type": "code",
   "execution_count": null,
   "metadata": {},
   "outputs": [],
   "source": []
  },
  {
   "cell_type": "code",
   "execution_count": null,
   "metadata": {},
   "outputs": [],
   "source": []
  },
  {
   "cell_type": "code",
   "execution_count": null,
   "metadata": {},
   "outputs": [],
   "source": []
  },
  {
   "cell_type": "code",
   "execution_count": null,
   "metadata": {},
   "outputs": [],
   "source": []
  },
  {
   "cell_type": "code",
   "execution_count": null,
   "metadata": {},
   "outputs": [],
   "source": []
  },
  {
   "cell_type": "code",
   "execution_count": null,
   "metadata": {},
   "outputs": [],
   "source": []
  },
  {
   "cell_type": "code",
   "execution_count": null,
   "metadata": {},
   "outputs": [],
   "source": []
  },
  {
   "cell_type": "code",
   "execution_count": null,
   "metadata": {},
   "outputs": [],
   "source": []
  },
  {
   "cell_type": "code",
   "execution_count": null,
   "metadata": {},
   "outputs": [],
   "source": []
  },
  {
   "cell_type": "code",
   "execution_count": null,
   "metadata": {},
   "outputs": [],
   "source": []
  },
  {
   "cell_type": "code",
   "execution_count": null,
   "metadata": {},
   "outputs": [],
   "source": []
  },
  {
   "cell_type": "code",
   "execution_count": null,
   "metadata": {},
   "outputs": [],
   "source": []
  },
  {
   "cell_type": "code",
   "execution_count": null,
   "metadata": {},
   "outputs": [],
   "source": []
  },
  {
   "cell_type": "code",
   "execution_count": null,
   "metadata": {},
   "outputs": [],
   "source": []
  },
  {
   "cell_type": "code",
   "execution_count": null,
   "metadata": {},
   "outputs": [],
   "source": []
  },
  {
   "cell_type": "code",
   "execution_count": null,
   "metadata": {},
   "outputs": [],
   "source": []
  },
  {
   "cell_type": "code",
   "execution_count": null,
   "metadata": {},
   "outputs": [],
   "source": []
  },
  {
   "cell_type": "code",
   "execution_count": null,
   "metadata": {},
   "outputs": [],
   "source": []
  },
  {
   "cell_type": "code",
   "execution_count": null,
   "metadata": {},
   "outputs": [],
   "source": []
  },
  {
   "cell_type": "code",
   "execution_count": null,
   "metadata": {},
   "outputs": [],
   "source": []
  },
  {
   "cell_type": "code",
   "execution_count": null,
   "metadata": {},
   "outputs": [],
   "source": []
  },
  {
   "cell_type": "code",
   "execution_count": null,
   "metadata": {},
   "outputs": [],
   "source": []
  },
  {
   "cell_type": "code",
   "execution_count": null,
   "metadata": {},
   "outputs": [],
   "source": []
  },
  {
   "cell_type": "code",
   "execution_count": null,
   "metadata": {},
   "outputs": [],
   "source": []
  },
  {
   "cell_type": "code",
   "execution_count": null,
   "metadata": {},
   "outputs": [],
   "source": []
  },
  {
   "cell_type": "code",
   "execution_count": null,
   "metadata": {},
   "outputs": [],
   "source": []
  },
  {
   "cell_type": "code",
   "execution_count": null,
   "metadata": {},
   "outputs": [],
   "source": []
  },
  {
   "cell_type": "code",
   "execution_count": null,
   "metadata": {},
   "outputs": [],
   "source": []
  },
  {
   "cell_type": "code",
   "execution_count": null,
   "metadata": {},
   "outputs": [],
   "source": []
  },
  {
   "cell_type": "code",
   "execution_count": null,
   "metadata": {},
   "outputs": [],
   "source": []
  },
  {
   "cell_type": "code",
   "execution_count": null,
   "metadata": {},
   "outputs": [],
   "source": []
  },
  {
   "cell_type": "code",
   "execution_count": null,
   "metadata": {},
   "outputs": [],
   "source": []
  },
  {
   "cell_type": "code",
   "execution_count": null,
   "metadata": {},
   "outputs": [],
   "source": []
  },
  {
   "cell_type": "code",
   "execution_count": null,
   "metadata": {},
   "outputs": [],
   "source": []
  },
  {
   "cell_type": "code",
   "execution_count": null,
   "metadata": {},
   "outputs": [],
   "source": []
  },
  {
   "cell_type": "code",
   "execution_count": null,
   "metadata": {},
   "outputs": [],
   "source": []
  },
  {
   "cell_type": "code",
   "execution_count": null,
   "metadata": {},
   "outputs": [],
   "source": []
  }
 ],
 "metadata": {
  "kernelspec": {
   "display_name": "Python 3",
   "language": "python",
   "name": "python3"
  },
  "language_info": {
   "codemirror_mode": {
    "name": "ipython",
    "version": 3
   },
   "file_extension": ".py",
   "mimetype": "text/x-python",
   "name": "python",
   "nbconvert_exporter": "python",
   "pygments_lexer": "ipython3",
   "version": "3.7.4"
  }
 },
 "nbformat": 4,
 "nbformat_minor": 2
}
